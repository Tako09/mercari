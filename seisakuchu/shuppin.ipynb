{
 "cells": [
  {
   "cell_type": "code",
   "execution_count": 1,
   "metadata": {},
   "outputs": [],
   "source": [
    "# merucariで出品をするプログラム\n",
    "# ユーザページから商品名と商品出品日の取得をする\n",
    "\n",
    "# install libraries\n",
    "from selenium import webdriver\n",
    "from selenium.webdriver.chrome import service\n",
    "from selenium.webdriver.common.by import By\n",
    "from selenium.webdriver.common.keys import Keys\n",
    "from selenium.webdriver.support.ui import WebDriverWait\n",
    "from selenium.webdriver.support import expected_conditions as EC\n",
    "from bs4 import BeautifulSoup as bs4\n",
    "import pandas as pd\n",
    "import time\n",
    "import os\n",
    "import traceback\n",
    "import pandas as pd\n",
    "from tkinter import messagebox as mb\n",
    "import re\n",
    "import datetime\n",
    "from dateutil.relativedelta import relativedelta\n",
    "from selenium.webdriver.support.select import Select"
   ]
  },
  {
   "cell_type": "code",
   "execution_count": 2,
   "metadata": {},
   "outputs": [],
   "source": [
    "# define variables -  global variables\n",
    "URL = 'https://jp.mercari.com/sell/create' # ここは変更必要\n",
    "# DRIVER_PATH = 'D:\\python\\mercuri\\driver\\chromedriver.exe' # 変更必要\n",
    "DRIVER_PATH = r'C:\\python\\mercuri\\driver\\chromedriver.exe' # 変更必要 - note pc用\n",
    "# USERDATA_DIR = r'D:\\python\\mercuri\\UserData'  # カレントディレクトリの直下に作る場合\n",
    "USERDATA_DIR = r'C:\\python\\mercuri\\UserData_12'  # カレントディレクトリの直下に作る場合 - note pc用 \n",
    "df = pd.DataFrame() # 後でほかのファイルに渡せるようにするために変数を定義しておく\n",
    "df_path = './data/selling_item.csv'"
   ]
  },
  {
   "cell_type": "code",
   "execution_count": 3,
   "metadata": {},
   "outputs": [],
   "source": [
    "def get_driver():\n",
    "    # driverの準備\n",
    "    if os.path.exists(USERDATA_DIR):\n",
    "        try:\n",
    "            options = webdriver.chrome.options.Options()\n",
    "            options.add_argument('--user-data-dir=' + USERDATA_DIR)\n",
    "            options.add_experimental_option('detach', True)\n",
    "\n",
    "            # google chromeを起動\n",
    "            chrome_service = service.Service(executable_path=DRIVER_PATH)\n",
    "            driver = webdriver.Chrome(\n",
    "                    service=chrome_service,\n",
    "                    options=options\n",
    "                )\n",
    "            driver.maximize_window() # 画面サイズ最大化\n",
    "            driver.implicitly_wait(10) # errorが起きた場合に10秒後自動的に閉じるように設定\n",
    "        except:        \n",
    "            mb.showwarning('警告','EXCEPTION\\n' + traceback.format_exc())\n",
    "        return driver\n",
    "    else:\n",
    "        mb.showwarning('ログイン情報がありません','ログイン情報を取得させる必要があります！ -自動的にログインページに遷移します。')\n",
    "        return 0"
   ]
  },
  {
   "cell_type": "code",
   "execution_count": 4,
   "metadata": {},
   "outputs": [],
   "source": [
    "def shuppin(driver, url, category=1, status=11, name=1, description=1, shipping_fee=1, shipping_way=1, shipped_area=1, ship_day=1, price=1):\n",
    "    # login情報の保持用操作\n",
    "\n",
    "    try:\n",
    "        driver.get(url)\n",
    "        time.sleep(3) # 5秒後に自動的に閉じる - 変更の必要あり\n",
    "        Select(driver.find_element_by_xpath('//*[@id=\"main\"]/form/section[2]/mer-select[1]/div/label/div[2]/select')).select_by_value(str(category))\n",
    "        time.sleep(1)\n",
    "        Select(driver.find_element_by_xpath('//*[@id=\"main\"]/form/section[2]/mer-select[2]/div/label/div[2]/select')).select_by_value(str(status))\n",
    "        time.sleep(1)\n",
    "        element = driver.find_element_by_xpath('//*[@id=\"main\"]/form/section[3]/mer-text-input/div/label/div[2]/input')\n",
    "        element.send_keys(Keys.CONTROL + \"a\")\n",
    "        element.send_keys(Keys.DELETE)\n",
    "        element.send_keys(str(name))\n",
    "        time.sleep(1)\n",
    "        element2 = driver.find_element_by_xpath('//*[@id=\"main\"]/form/section[3]/mer-textarea/div/label/textarea[1]')\n",
    "        element2.send_keys(Keys.CONTROL + \"a\")\n",
    "        element2.send_keys(Keys.DELETE)\n",
    "        element2.send_keys(str(description))\n",
    "        time.sleep(1)\n",
    "        Select(driver.find_element_by_xpath('//*[@id=\"main\"]/form/section[4]/div[2]/mer-select[1]/div/label/div[2]/select')).select_by_value(str(shipping_fee))\n",
    "        time.sleep(1)\n",
    "        Select(driver.find_element_by_xpath('//*[@id=\"main\"]/form/section[4]/div[2]/mer-select[2]/div/label/div[2]/select')).select_by_value(str(shipping_way))\n",
    "        time.sleep(1)\n",
    "        Select(driver.find_element_by_xpath('//*[@id=\"main\"]/form/section[4]/mer-select[1]/div/label/div[2]/select')).select_by_value(str(shipped_area))\n",
    "        time.sleep(1)\n",
    "        Select(driver.find_element_by_xpath('//*[@id=\"main\"]/form/section[4]/mer-select[2]/div/label/div[2]/select')).select_by_value(str(ship_day))\n",
    "        time.sleep(1)\n",
    "        element3 = driver.find_element_by_xpath('//*[@id=\"main\"]/form/section[5]/div[2]/mer-text-input/div/label/div[2]/input')\n",
    "        element3.send_keys(Keys.CONTROL + \"a\")\n",
    "        element3.send_keys(Keys.DELETE)\n",
    "        element3.send_keys(str(price))\n",
    "        time.sleep(1)\n",
    "        # driver.find_element_by_xpath('//*[@id=\"main\"]/form/div[2]/mer-button[1]/button').click()\n",
    "    except:        \n",
    "        mb.showwarning('警告','EXCEPTION\\n' + traceback.format_exc())"
   ]
  },
  {
   "cell_type": "code",
   "execution_count": 5,
   "metadata": {},
   "outputs": [
    {
     "name": "stderr",
     "output_type": "stream",
     "text": [
      "C:\\Users\\USER_A~1\\AppData\\Local\\Temp/ipykernel_6272/1768619369.py:7: DeprecationWarning: find_element_by_* commands are deprecated. Please use find_element() instead\n",
      "  Select(driver.find_element_by_xpath('//*[@id=\"main\"]/form/section[2]/mer-select[1]/div/label/div[2]/select')).select_by_value(str(category))\n",
      "C:\\Users\\USER_A~1\\AppData\\Local\\Temp/ipykernel_6272/1768619369.py:9: DeprecationWarning: find_element_by_* commands are deprecated. Please use find_element() instead\n",
      "  Select(driver.find_element_by_xpath('//*[@id=\"main\"]/form/section[2]/mer-select[2]/div/label/div[2]/select')).select_by_value(str(status))\n"
     ]
    }
   ],
   "source": [
    "driver = get_driver()\n",
    "shuppin(driver, URL)"
   ]
  },
  {
   "cell_type": "code",
   "execution_count": null,
   "metadata": {},
   "outputs": [],
   "source": []
  },
  {
   "cell_type": "code",
   "execution_count": null,
   "metadata": {},
   "outputs": [],
   "source": []
  },
  {
   "cell_type": "code",
   "execution_count": null,
   "metadata": {},
   "outputs": [],
   "source": []
  },
  {
   "cell_type": "code",
   "execution_count": null,
   "metadata": {},
   "outputs": [],
   "source": []
  },
  {
   "cell_type": "code",
   "execution_count": null,
   "metadata": {},
   "outputs": [],
   "source": []
  }
 ],
 "metadata": {
  "interpreter": {
   "hash": "2d5e3d7f5e6a680db1d1b50ebcaac2968d6bc741d89b3c31035e4aad6dc7e603"
  },
  "kernelspec": {
   "display_name": "Python 3.10.1 64-bit",
   "language": "python",
   "name": "python3"
  },
  "language_info": {
   "codemirror_mode": {
    "name": "ipython",
    "version": 3
   },
   "file_extension": ".py",
   "mimetype": "text/x-python",
   "name": "python",
   "nbconvert_exporter": "python",
   "pygments_lexer": "ipython3",
   "version": "3.10.1"
  },
  "orig_nbformat": 4
 },
 "nbformat": 4,
 "nbformat_minor": 2
}
